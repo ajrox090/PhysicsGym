{
 "cells": [
  {
   "cell_type": "code",
   "execution_count": 1,
   "id": "8fab52a9-9c67-47d9-8777-acd155c15b83",
   "metadata": {},
   "outputs": [],
   "source": [
    "import copy\n",
    "\n",
    "import numpy as np\n",
    "import time\n",
    "\n",
    "from phi import vis, math\n",
    "from phi.field import CenteredGrid, Noise\n",
    "from phi.geom import Box\n",
    "from phi.math import extrapolation, tensor\n",
    "from phi.physics._effect import FieldEffect\n",
    "from scipy.optimize import minimize\n",
    "from scipy.optimize import Bounds\n",
    "from tqdm import tqdm\n",
    "\n",
    "from src.env.physics.burgers import Burgers"
   ]
  },
  {
   "cell_type": "code",
   "execution_count": 2,
   "id": "dd435c4f-9835-4d48-a81e-d5ebfd59b3b8",
   "metadata": {},
   "outputs": [],
   "source": [
    "# *[1] todo: Explain what the GaussianForce function represents here.\n",
    "# *[2] todo: Explain the cost function\n",
    "\"\"\"\n",
    "    what is the problem? \n",
    "        For a   domain D (of varying sizes [32,64,..]),\n",
    "                timestep of 0.01, \n",
    "                the initial state is sampled from GaussianClashFunction*[1]\n",
    "        control the evolution of environment, by minimizing the following cost function.*[2]\n",
    "\"\"\"\n",
    "N = 4\n",
    "dt = 0.05\n",
    "visc = 0.003  # viscosity\n",
    "domain_dict = dict(x=N, bounds=Box[-1:1], extrapolation=extrapolation.PERIODIC)\n",
    "physics = Burgers(default_viscosity=visc)\n",
    "\n",
    "p = 5  # Prediction horizon on coarse grid\n",
    "T = 1.0  # New final time\n",
    "nt2 = round(T / dt) + 1  # number of time steps on coarser grid for SUR\n",
    "u_min = -10.0  # lower bound for control\n",
    "u_max = 10.0  # upper bound for control"
   ]
  },
  {
   "cell_type": "code",
   "execution_count": 3,
   "id": "9eb8b04f-9d54-4623-b3e0-16bc9f5ce42b",
   "metadata": {},
   "outputs": [],
   "source": [
    "# ** what is the initial state? : is defined based on the goal. One could start from a suboptimal initial state and\n",
    "# learn its way to goal state.\n",
    "def GaussianClash(x):\n",
    "    batch_size = N\n",
    "    leftloc = np.random.uniform(0.2, 0.4, batch_size)\n",
    "    leftamp = np.random.uniform(0, 3, batch_size)\n",
    "    leftsig = np.random.uniform(0.05, 0.15, batch_size)\n",
    "    rightloc = np.random.uniform(0.6, 0.8, batch_size)\n",
    "    rightamp = np.random.uniform(-3, 0, batch_size)\n",
    "    rightsig = np.random.uniform(0.05, 0.15, batch_size)\n",
    "    left = tensor(leftamp, x.shape[0]) * math.exp(\n",
    "        -0.5 * (x.x.tensor - tensor(leftloc, x.shape[0])) ** 2 / tensor(leftsig, x.shape[0]) ** 2)\n",
    "    right = tensor(rightamp, x.shape[0]) * math.exp(\n",
    "        -0.5 * (x.x.tensor - tensor(rightloc, x.shape[0])) ** 2 / tensor(rightsig, x.shape[0]) ** 2)\n",
    "    result = left + right\n",
    "    return result\n",
    "\n",
    "\n",
    "# intial state\n",
    "y0_pf = CenteredGrid(GaussianClash, **domain_dict)\n",
    "y0_native = y0_pf.data.native(\"vector,x\")[0]"
   ]
  },
  {
   "cell_type": "code",
   "execution_count": 4,
   "id": "3996cc2c-28bb-49f1-88a3-e026a15e2931",
   "metadata": {},
   "outputs": [
    {
     "name": "stderr",
     "output_type": "stream",
     "text": [
      "100%|██████████████████████████████████████████████████████████████████████████████████████████████████████████████████████████████████████████████| 21/21 [00:00<00:00, 49.07it/s]\n"
     ]
    }
   ],
   "source": [
    "# ** what is the goal state? : goal of the problem and also decides on how to choose a cost function.\n",
    "\n",
    "def GaussianForce(x):\n",
    "    batch_size = N\n",
    "    loc = np.random.uniform(0.4, 0.6, batch_size)\n",
    "    amp = np.random.uniform(-0.05, 0.05, batch_size) * 32\n",
    "    sig = np.random.uniform(0.1, 0.4, batch_size)\n",
    "    result = tensor(amp, x.shape[0]) * math.exp(\n",
    "        -0.5 * (x.x.tensor - tensor(loc, x.shape[0])) ** 2 / tensor(sig, x.shape[0]) ** 2)\n",
    "    return result\n",
    "\n",
    "\n",
    "# GaussianForce as phiflow.FieldEffect.\n",
    "g_f_pf = FieldEffect(CenteredGrid(GaussianForce, **domain_dict), ['velocity'])\n",
    "# calculate ground truth trajectories\n",
    "gt_trajectories = []\n",
    "y_gt_pf = copy.deepcopy(y0_pf)\n",
    "gt_traj_pf = [y_gt_pf]\n",
    "for i in tqdm(range(nt2)):\n",
    "    y_gt_pf = physics.step(y_gt_pf, dt=dt, effects=(g_f_pf,))\n",
    "    gt_traj_pf.append(y_gt_pf)\n",
    "    gt_trajectories.append(y_gt_pf.data.native(\"vector,x\")[0])\n",
    "gt_traj_np = np.array(gt_trajectories)"
   ]
  },
  {
   "cell_type": "code",
   "execution_count": 5,
   "id": "6f6b0494-dced-4d00-b89d-289179cc02a7",
   "metadata": {},
   "outputs": [],
   "source": [
    "# ** What is the cost function? : simply, the weighted difference between trajectories\n",
    "\n",
    "def J(u_: list, y_0_native: np.array, y_gt_native: np.ndarray):\n",
    "    \"\"\"\n",
    "        step1 -> update the environment for finite number of prediction horizon in the presence of control element u_\n",
    "        step2 -> extract target trajectories from y_gt_native of size = prediction horizon\n",
    "        step3 -> calculate weighted difference\n",
    "    \"\"\"\n",
    "\n",
    "    # step1: update the environment for the prediction horizon p using given control u\n",
    "    u_ = u_.reshape(p, N)\n",
    "    y0_ = copy.deepcopy(y_0_native)\n",
    "    y_ = [y0_]\n",
    "    for i in range(p):\n",
    "        y00_ = math.tensor(y0_.reshape(y0_pf.data._native.shape), y0_pf.shape)\n",
    "        y0_ = CenteredGrid(y00_, **domain_dict)\n",
    "        u0_ = math.tensor(u_[i].reshape(y0_pf.data._native.shape), y0_pf.shape)\n",
    "        f_ = FieldEffect(CenteredGrid(u0_, **domain_dict), ['velocity'])\n",
    "        y0_ = physics.step(y0_, dt=dt, effects=(f_,))\n",
    "        y0_ = y0_.data.native(\"vector,x\")[0]\n",
    "        y_.append(y0_)\n",
    "    y_ = np.array(y_)\n",
    "\n",
    "    # step2: select the reference trajectories\n",
    "    # fill up reference trajectory if necessary\n",
    "    y_ref = np.zeros(y_.shape)\n",
    "    y_ref[:y_gt_native.shape[0]] = y_gt_native\n",
    "\n",
    "    # y_ref = np.array(y_gt_native[:y_.shape[0]])\n",
    "\n",
    "    # step3: calculate weighted difference between trajectories\n",
    "    dy = y_ - y_ref\n",
    "    dyQ = 0\n",
    "    # for ii in range(dy.shape[1]):\n",
    "    for ii in range(dy.shape[1]):\n",
    "        dyQ += np.power(dy[:, ii], 2)\n",
    "\n",
    "    return dt * np.sum(dyQ)"
   ]
  },
  {
   "cell_type": "code",
   "execution_count": 6,
   "id": "34bd0224-72e4-4461-a255-43743df4afc2",
   "metadata": {},
   "outputs": [
    {
     "name": "stderr",
     "output_type": "stream",
     "text": [
      "100%|██████████████████████████████████████████████████████████████████████████████████████████████████████████████████████████████████████████████| 21/21 [01:25<00:00,  4.09s/it]\n"
     ]
    }
   ],
   "source": [
    "# ** MPC loop\n",
    "\n",
    "# intial guess for first optimization problem\n",
    "u0 = [CenteredGrid(GaussianForce, **domain_dict).data.native(\"vector,x\")[0] for _ in range(p)]\n",
    "# box constraints u_min <= u <= u_max\n",
    "bounds = Bounds(u_min * np.ones(p * N, dtype=float), u_max * np.ones(p * N, dtype=float))\n",
    "\n",
    "y_ = copy.deepcopy(y0_native)\n",
    "ypf_ = copy.deepcopy(y0_pf)\n",
    "u_ = np.zeros((nt2, N))\n",
    "# y_traj = np.zeros((nt2, N))\n",
    "# y_traj[0] = y_\n",
    "y_traj = [ypf_]\n",
    "for i in tqdm(range(nt2)):\n",
    "\n",
    "    # determine maximum entry of reference trajectory\n",
    "    # if ie - i < p, then the remaining entries are\n",
    "    # constant and identical to the last given one\n",
    "    ie = np.min([nt2, i + p + 1])\n",
    "\n",
    "    # call optimizer\n",
    "    res = minimize(lambda utmp: J(utmp, y_, gt_traj_np[i:ie]), u0, method='SLSQP', bounds=bounds)\n",
    "\n",
    "    # retrieve first entry of u and apply it to the plant\n",
    "    u_[i] = res.x[0]\n",
    "    # apply above control on environment\n",
    "    if i < nt2 - 1:\n",
    "        u0_ = math.tensor(u_[i].reshape(ypf_.data._native.shape), ypf_.shape)\n",
    "        f_ = FieldEffect(CenteredGrid(u0_, **domain_dict), ['velocity'])\n",
    "        ypf_ = physics.step(ypf_, dt=dt, effects=(f_,))\n",
    "        y_traj.append(copy.deepcopy(ypf_))\n",
    "        y_ = ypf_.data.native(\"vector,x\")[0]\n",
    "\n",
    "    # update initial guess\n",
    "    u0[:-1] = res.x[1:]\n",
    "    u0[-1] = res.x[-1]"
   ]
  },
  {
   "cell_type": "code",
   "execution_count": 12,
   "id": "3e02744a-3a93-42ab-95ba-761409cf49d6",
   "metadata": {},
   "outputs": [
    {
     "name": "stdout",
     "output_type": "stream",
     "text": [
      "22\n",
      "21\n"
     ]
    }
   ],
   "source": [
    "# visualize results\n",
    "print(len(gt_traj_pf))\n",
    "print(len(y_traj))\n",
    "# assert (len(gt_traj_pf) == len(y_traj))\n",
    "# for i in range(len(y_traj)-1):\n",
    "    # vis.show(y_traj[i])\n",
    "    # vis.show(gt_traj_pf[i])"
   ]
  },
  {
   "cell_type": "code",
   "execution_count": null,
   "id": "1feda0d9-64f9-4dcb-98c9-a0b6a23cb3b6",
   "metadata": {},
   "outputs": [],
   "source": []
  }
 ],
 "metadata": {
  "kernelspec": {
   "display_name": "Thesis-RL",
   "language": "python",
   "name": "thesis-rl"
  },
  "language_info": {
   "codemirror_mode": {
    "name": "ipython",
    "version": 3
   },
   "file_extension": ".py",
   "mimetype": "text/x-python",
   "name": "python",
   "nbconvert_exporter": "python",
   "pygments_lexer": "ipython3",
   "version": "3.10.4"
  }
 },
 "nbformat": 4,
 "nbformat_minor": 5
}
